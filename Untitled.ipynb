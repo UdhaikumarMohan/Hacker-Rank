{
 "cells": [
  {
   "cell_type": "code",
   "execution_count": null,
   "id": "1d57e380",
   "metadata": {},
   "outputs": [],
   "source": [
    "a = [10,80,3]\n",
    "\n",
    "def LCM(a):\n",
    "  \n",
    "    count=0\n",
    "    \n",
    "    i=0\n",
    "    \n",
    "    lcm = max(a)\n",
    "      \n",
    "    while not count==len(a):\n",
    "\n",
    "        if lcm % a[i] == 0: \n",
    "\n",
    "            count+=1\n",
    "            i+=1\n",
    "          \n",
    "        else:\n",
    "\n",
    "            count = 0\n",
    "            i=0\n",
    "            lcm = lcm+len(a)\n",
    "\n",
    "    if count==len(a):\n",
    "\n",
    "        print(lcm)\n",
    "\n",
    "    else:\n",
    "\n",
    "        print(\"Something Wrong\")\n",
    "\n",
    "LCM(a)\n",
    "    \n",
    "    \n"
   ]
  },
  {
   "cell_type": "code",
   "execution_count": 24,
   "id": "2405a6f6",
   "metadata": {},
   "outputs": [
    {
     "name": "stdout",
     "output_type": "stream",
     "text": [
      "1\n"
     ]
    }
   ],
   "source": [
    "print(10%3)"
   ]
  }
 ],
 "metadata": {
  "kernelspec": {
   "display_name": "Python 3",
   "language": "python",
   "name": "python3"
  },
  "language_info": {
   "codemirror_mode": {
    "name": "ipython",
    "version": 3
   },
   "file_extension": ".py",
   "mimetype": "text/x-python",
   "name": "python",
   "nbconvert_exporter": "python",
   "pygments_lexer": "ipython3",
   "version": "3.8.8"
  }
 },
 "nbformat": 4,
 "nbformat_minor": 5
}
